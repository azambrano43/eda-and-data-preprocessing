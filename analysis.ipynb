{
 "cells": [
  {
   "cell_type": "code",
   "execution_count": 1,
   "metadata": {},
   "outputs": [],
   "source": [
    "import sys\n",
    "import os\n",
    "\n",
    "# Add the 'src' directory to the Python path\n",
    "sys.path.append(os.path.abspath('src'))"
   ]
  },
  {
   "cell_type": "code",
   "execution_count": 2,
   "metadata": {},
   "outputs": [],
   "source": [
    "from eda_functions import *\n",
    "from preprocessing import *\n",
    "import pandas as pd\n",
    "import seaborn as sns\n",
    "import matplotlib.pyplot as plt"
   ]
  },
  {
   "cell_type": "code",
   "execution_count": 3,
   "metadata": {},
   "outputs": [],
   "source": [
    "# Import your dataset to start analysis\n",
    "dataset = pd.read_csv(\"data/flights.csv\")"
   ]
  },
  {
   "cell_type": "code",
   "execution_count": 4,
   "metadata": {},
   "outputs": [
    {
     "name": "stdout",
     "output_type": "stream",
     "text": [
      "(336776, 21)\n",
      "This dataset has 21 columns\n"
     ]
    }
   ],
   "source": [
    "print(dataset.shape)\n",
    "print(f\"This dataset has {dataset.shape[1]} columns\")"
   ]
  },
  {
   "cell_type": "code",
   "execution_count": 5,
   "metadata": {},
   "outputs": [
    {
     "name": "stdout",
     "output_type": "stream",
     "text": [
      "                  id      year          month            day       dep_time  \\\n",
      "count  336776.000000  336776.0  336776.000000  336776.000000  328521.000000   \n",
      "mean   168387.500000    2013.0       6.548510      15.710787    1349.109947   \n",
      "std     97219.001466       0.0       3.414457       8.768607     488.281791   \n",
      "min         0.000000    2013.0       1.000000       1.000000       1.000000   \n",
      "25%     84193.750000    2013.0       4.000000       8.000000     907.000000   \n",
      "50%    168387.500000    2013.0       7.000000      16.000000    1401.000000   \n",
      "75%    252581.250000    2013.0      10.000000      23.000000    1744.000000   \n",
      "max    336775.000000    2013.0      12.000000      31.000000    2400.000000   \n",
      "\n",
      "       sched_dep_time      dep_delay       arr_time  sched_arr_time  \\\n",
      "count   336776.000000  328521.000000  328063.000000   336776.000000   \n",
      "mean      1344.254840      12.639070    1502.054999     1536.380220   \n",
      "std        467.335756      40.210061     533.264132      497.457142   \n",
      "min        106.000000     -43.000000       1.000000        1.000000   \n",
      "25%        906.000000      -5.000000    1104.000000     1124.000000   \n",
      "50%       1359.000000      -2.000000    1535.000000     1556.000000   \n",
      "75%       1729.000000      11.000000    1940.000000     1945.000000   \n",
      "max       2359.000000    1301.000000    2400.000000     2359.000000   \n",
      "\n",
      "           arr_delay         flight       air_time       distance  \\\n",
      "count  327346.000000  336776.000000  327346.000000  336776.000000   \n",
      "mean        6.895377    1971.923620     150.686460    1039.912604   \n",
      "std        44.633292    1632.471938      93.688305     733.233033   \n",
      "min       -86.000000       1.000000      20.000000      17.000000   \n",
      "25%       -17.000000     553.000000      82.000000     502.000000   \n",
      "50%        -5.000000    1496.000000     129.000000     872.000000   \n",
      "75%        14.000000    3465.000000     192.000000    1389.000000   \n",
      "max      1272.000000    8500.000000     695.000000    4983.000000   \n",
      "\n",
      "                hour         minute  \n",
      "count  336776.000000  336776.000000  \n",
      "mean       13.180247      26.230100  \n",
      "std         4.661316      19.300846  \n",
      "min         1.000000       0.000000  \n",
      "25%         9.000000       8.000000  \n",
      "50%        13.000000      29.000000  \n",
      "75%        17.000000      44.000000  \n",
      "max        23.000000      59.000000  \n"
     ]
    }
   ],
   "source": [
    "print(dataset.describe())"
   ]
  },
  {
   "cell_type": "code",
   "execution_count": 6,
   "metadata": {},
   "outputs": [
    {
     "name": "stdout",
     "output_type": "stream",
     "text": [
      "<class 'pandas.core.frame.DataFrame'>\n",
      "RangeIndex: 336776 entries, 0 to 336775\n",
      "Data columns (total 21 columns):\n",
      " #   Column          Non-Null Count   Dtype  \n",
      "---  ------          --------------   -----  \n",
      " 0   id              336776 non-null  int64  \n",
      " 1   year            336776 non-null  int64  \n",
      " 2   month           336776 non-null  int64  \n",
      " 3   day             336776 non-null  int64  \n",
      " 4   dep_time        328521 non-null  float64\n",
      " 5   sched_dep_time  336776 non-null  int64  \n",
      " 6   dep_delay       328521 non-null  float64\n",
      " 7   arr_time        328063 non-null  float64\n",
      " 8   sched_arr_time  336776 non-null  int64  \n",
      " 9   arr_delay       327346 non-null  float64\n",
      " 10  carrier         336776 non-null  object \n",
      " 11  flight          336776 non-null  int64  \n",
      " 12  tailnum         334264 non-null  object \n",
      " 13  origin          336776 non-null  object \n",
      " 14  dest            336776 non-null  object \n",
      " 15  air_time        327346 non-null  float64\n",
      " 16  distance        336776 non-null  int64  \n",
      " 17  hour            336776 non-null  int64  \n",
      " 18  minute          336776 non-null  int64  \n",
      " 19  time_hour       336776 non-null  object \n",
      " 20  name            336776 non-null  object \n",
      "dtypes: float64(5), int64(10), object(6)\n",
      "memory usage: 54.0+ MB\n",
      "None\n"
     ]
    }
   ],
   "source": [
    "print(dataset.info())"
   ]
  },
  {
   "cell_type": "code",
   "execution_count": 7,
   "metadata": {},
   "outputs": [
    {
     "name": "stdout",
     "output_type": "stream",
     "text": [
      "Column name      Null values\n"
     ]
    },
    {
     "data": {
      "text/plain": [
       "id                   0\n",
       "year                 0\n",
       "month                0\n",
       "day                  0\n",
       "dep_time          8255\n",
       "sched_dep_time       0\n",
       "dep_delay         8255\n",
       "arr_time          8713\n",
       "sched_arr_time       0\n",
       "arr_delay         9430\n",
       "carrier              0\n",
       "flight               0\n",
       "tailnum           2512\n",
       "origin               0\n",
       "dest                 0\n",
       "air_time          9430\n",
       "distance             0\n",
       "hour                 0\n",
       "minute               0\n",
       "time_hour            0\n",
       "name                 0\n",
       "dtype: int64"
      ]
     },
     "execution_count": 7,
     "metadata": {},
     "output_type": "execute_result"
    }
   ],
   "source": [
    "print(f\"Column name      Null values\")\n",
    "count_null_values(dataset)"
   ]
  },
  {
   "cell_type": "code",
   "execution_count": 8,
   "metadata": {},
   "outputs": [
    {
     "name": "stdout",
     "output_type": "stream",
     "text": [
      "Column name    # Unique values\n"
     ]
    },
    {
     "data": {
      "text/plain": [
       "id                336776\n",
       "year                   1\n",
       "month                 12\n",
       "day                   31\n",
       "dep_time            1318\n",
       "sched_dep_time      1021\n",
       "dep_delay            527\n",
       "arr_time            1411\n",
       "sched_arr_time      1163\n",
       "arr_delay            577\n",
       "carrier               16\n",
       "flight              3844\n",
       "tailnum             4043\n",
       "origin                 3\n",
       "dest                 105\n",
       "air_time             509\n",
       "distance             214\n",
       "hour                  20\n",
       "minute                60\n",
       "time_hour           6936\n",
       "name                  16\n",
       "dtype: int64"
      ]
     },
     "execution_count": 8,
     "metadata": {},
     "output_type": "execute_result"
    }
   ],
   "source": [
    "print(f\"Column name    # Unique values\")\n",
    "count_unique_values(dataset)"
   ]
  },
  {
   "cell_type": "code",
   "execution_count": 9,
   "metadata": {},
   "outputs": [
    {
     "name": "stdout",
     "output_type": "stream",
     "text": [
      "['carrier', 'tailnum', 'origin', 'dest', 'time_hour', 'name']\n",
      "==============================================================\n",
      "  carrier tailnum origin dest            time_hour                      name\n",
      "0      UA  N14228    EWR  IAH  2013-01-01 05:00:00     United Air Lines Inc.\n",
      "1      UA  N24211    LGA  IAH  2013-01-01 05:00:00     United Air Lines Inc.\n",
      "2      AA  N619AA    JFK  MIA  2013-01-01 05:00:00    American Airlines Inc.\n",
      "3      B6  N804JB    JFK  BQN  2013-01-01 05:00:00           JetBlue Airways\n",
      "4      DL  N668DN    LGA  ATL  2013-01-01 06:00:00      Delta Air Lines Inc.\n",
      "5      UA  N39463    EWR  ORD  2013-01-01 05:00:00     United Air Lines Inc.\n",
      "6      B6  N516JB    EWR  FLL  2013-01-01 06:00:00           JetBlue Airways\n",
      "7      EV  N829AS    LGA  IAD  2013-01-01 06:00:00  ExpressJet Airlines Inc.\n",
      "8      B6  N593JB    JFK  MCO  2013-01-01 06:00:00           JetBlue Airways\n",
      "9      AA  N3ALAA    LGA  ORD  2013-01-01 06:00:00    American Airlines Inc.\n"
     ]
    }
   ],
   "source": [
    "object_columns = get_object_columns((dataset))\n",
    "print(object_columns)\n",
    "print(\"==============================================================\")\n",
    "print(dataset[object_columns].head(10))"
   ]
  },
  {
   "cell_type": "code",
   "execution_count": 11,
   "metadata": {},
   "outputs": [
    {
     "name": "stdout",
     "output_type": "stream",
     "text": [
      "id                  int64\n",
      "year                int64\n",
      "month               int64\n",
      "day                 int64\n",
      "dep_time          float64\n",
      "sched_dep_time      int64\n",
      "dep_delay         float64\n",
      "arr_time          float64\n",
      "sched_arr_time      int64\n",
      "arr_delay         float64\n",
      "carrier            object\n",
      "flight              int64\n",
      "tailnum            object\n",
      "origin             object\n",
      "dest               object\n",
      "air_time          float64\n",
      "distance            int64\n",
      "hour                int64\n",
      "minute              int64\n",
      "time_hour          object\n",
      "name               object\n",
      "dtype: object\n"
     ]
    }
   ],
   "source": [
    "str_cols = [\"carrier\", \"tailnum\", \"origin\", \"dest\", \"name\"]\n",
    "date_cols = [\"time_hour\"]\n",
    "\n",
    "df_conv = convert_columns(dataset, str_cols, \"String\")\n",
    "#df_conv = convert_columns(df_conv, date_cols, \"Date\")\n",
    "print(df_conv.dtypes)"
   ]
  },
  {
   "cell_type": "code",
   "execution_count": null,
   "metadata": {},
   "outputs": [],
   "source": []
  }
 ],
 "metadata": {
  "kernelspec": {
   "display_name": "ProyectoADA",
   "language": "python",
   "name": "python3"
  },
  "language_info": {
   "codemirror_mode": {
    "name": "ipython",
    "version": 3
   },
   "file_extension": ".py",
   "mimetype": "text/x-python",
   "name": "python",
   "nbconvert_exporter": "python",
   "pygments_lexer": "ipython3",
   "version": "3.10.14"
  }
 },
 "nbformat": 4,
 "nbformat_minor": 2
}
